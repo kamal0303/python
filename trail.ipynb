{
 "cells": [
  {
   "cell_type": "code",
   "execution_count": 3,
   "metadata": {},
   "outputs": [
    {
     "name": "stdout",
     "output_type": "stream",
     "text": [
      "Hi from the jupyter notebook\n"
     ]
    }
   ],
   "source": [
    "print(\"Hi from the jupyter notebook\")"
   ]
  },
  {
   "cell_type": "code",
   "execution_count": 2,
   "metadata": {},
   "outputs": [
    {
     "name": "stdout",
     "output_type": "stream",
     "text": [
      "you understood everything? False\n"
     ]
    }
   ],
   "source": [
    "class_starts_at = 1500\n",
    "you_came_at = 1600\n",
    "you_understood_all_concepts = you_came_at < class_starts_at\n",
    "print(f\"you understood everything? {you_understood_all_concepts}\")"
   ]
  }
 ],
 "metadata": {
  "kernelspec": {
   "display_name": "Python 3.9.12 ('base')",
   "language": "python",
   "name": "python3"
  },
  "language_info": {
   "codemirror_mode": {
    "name": "ipython",
    "version": 3
   },
   "file_extension": ".py",
   "mimetype": "text/x-python",
   "name": "python",
   "nbconvert_exporter": "python",
   "pygments_lexer": "ipython3",
   "version": "3.9.12"
  },
  "orig_nbformat": 4,
  "vscode": {
   "interpreter": {
    "hash": "4c6a505d8a9407965df70cc3a32b0f946c46f4db9d35055daaf410d3cba56022"
   }
  }
 },
 "nbformat": 4,
 "nbformat_minor": 2
}
