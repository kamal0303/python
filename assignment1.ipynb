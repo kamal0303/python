{
  "nbformat": 4,
  "nbformat_minor": 0,
  "metadata": {
    "colab": {
      "provenance": []
    },
    "kernelspec": {
      "name": "python3",
      "display_name": "Python 3"
    },
    "language_info": {
      "name": "python"
    }
  },
  "cells": [
    {
      "cell_type": "markdown",
      "source": [
        "WAP to accept two numbers from the user and display their sum"
      ],
      "metadata": {
        "id": "hD4NP1JYNl_T"
      }
    },
    {
      "cell_type": "code",
      "execution_count": null,
      "metadata": {
        "id": "Y2lrmUzhlkhM",
        "colab": {
          "base_uri": "https://localhost:8080/"
        },
        "outputId": "1cc1eb9b-dd05-4cd6-8b73-cf545e55b10d"
      },
      "outputs": [
        {
          "name": "stdout",
          "output_type": "stream",
          "text": [
            "Enter 1st Number: 5\n",
            "Enter 2nd Number: 5\n"
          ]
        },
        {
          "output_type": "execute_result",
          "data": {
            "text/plain": [
              "10"
            ]
          },
          "metadata": {},
          "execution_count": 1
        }
      ],
      "source": [
        "a = int(input(\"Enter 1st Number: \"))\n",
        "b = int(input(\"Enter 2nd Number: \"))\n",
        "c = a + b\n",
        "c"
      ]
    },
    {
      "cell_type": "markdown",
      "source": [
        "WAP to accept radius of a Circle from the user and calculate area and circumference"
      ],
      "metadata": {
        "id": "fbBdChBENun2"
      }
    },
    {
      "cell_type": "code",
      "source": [
        "r = float(input(\"Enter radius of a circle: \"))\n",
        "area = round(3.14 * (r**2),2)\n",
        "cir = round(2 * 3.14 * r, 2)\n",
        "print(\"area = \", area, \"circumference = \", cir)"
      ],
      "metadata": {
        "colab": {
          "base_uri": "https://localhost:8080/"
        },
        "id": "3mx5xBt9HKBI",
        "outputId": "1e5d8e29-bd04-4c79-bd4e-48afa55f5ef5"
      },
      "execution_count": null,
      "outputs": [
        {
          "output_type": "stream",
          "name": "stdout",
          "text": [
            "Enter radius of a circle: 3\n",
            "area =  28.26 circumference =  18.84\n"
          ]
        }
      ]
    },
    {
      "cell_type": "code",
      "source": [
        "import math\n",
        "radius = float(input(\"enter the radius of a circle \"))\n",
        "print(\"area is \", math.pi * radius * radius)\n",
        "print(\"circumference is\", math.pi * )"
      ],
      "metadata": {
        "colab": {
          "base_uri": "https://localhost:8080/"
        },
        "id": "jUptiZgUHEL6",
        "outputId": "b12ef2b8-b912-4fbd-87d9-270070f31f8e"
      },
      "execution_count": null,
      "outputs": [
        {
          "output_type": "stream",
          "name": "stdout",
          "text": [
            "enter the radius of a circle 3\n",
            "area is  28.274333882308138\n"
          ]
        }
      ]
    },
    {
      "cell_type": "markdown",
      "source": [
        "WAP to accept roll number , grade and percentage as input from the user and display it back"
      ],
      "metadata": {
        "id": "ivqggfsEN46J"
      }
    },
    {
      "cell_type": "code",
      "source": [
        "roll_number = int(input(\"Enter your roll number: \"))\n",
        "grade = input(\"Enter your Grade: \")\n",
        "percentage = int(input(\"Enter your percentage: \"))\n",
        "print(\"your roll number is:\", roll_number, \"your grade is:\", grade, \"your percentage is:\", percentage)\n",
        "print(f\"your roll number is: {roll_number}, your grade is: {grade}, your percentage is: {percentage}%\")"
      ],
      "metadata": {
        "id": "IONEe_1qNf3z"
      },
      "execution_count": null,
      "outputs": []
    },
    {
      "cell_type": "markdown",
      "source": [
        "Write a program that asks the user to enter his/her name and age. Print out a message , displaying the user’s name along with the year in which they will turn 100 years old."
      ],
      "metadata": {
        "id": "q_gS2KS6RORM"
      }
    },
    {
      "cell_type": "code",
      "source": [
        "name = input(\"Enter your name: \")\n",
        "age = int(input(\"Enter your age: \"))\n",
        "year = (2022 - age) + 100\n",
        "print(f\"your name is {name}, and you are going to be 100 years old in {year}\")"
      ],
      "metadata": {
        "id": "_RnhcmJMOhHZ"
      },
      "execution_count": null,
      "outputs": []
    },
    {
      "cell_type": "markdown",
      "source": [
        "Write a program that asks the user to input 2 integers and adds them .\n",
        "Accept both the numbers in a single line only"
      ],
      "metadata": {
        "id": "I9PAAp9qR5Gu"
      }
    },
    {
      "cell_type": "code",
      "source": [
        "string = input(\"Enter 2 integers, separated by a space: \")\n",
        "z = string.split(\" \")\n",
        "x = int(z[0])\n",
        "y = int(z[1])\n",
        "l = x + y\n",
        "l"
      ],
      "metadata": {
        "id": "nGKsMCCrSB7G",
        "colab": {
          "base_uri": "https://localhost:8080/"
        },
        "outputId": "2b96bd3d-9ab2-4f7b-c9fa-c777101a9c5d"
      },
      "execution_count": null,
      "outputs": [
        {
          "name": "stdout",
          "output_type": "stream",
          "text": [
            "Enter 2 integers, separated by a space: 5 6\n"
          ]
        },
        {
          "output_type": "execute_result",
          "data": {
            "text/plain": [
              "11"
            ]
          },
          "metadata": {},
          "execution_count": 5
        }
      ]
    },
    {
      "cell_type": "code",
      "source": [
        "a,b = input(\"enter 2 numbers:\").split()\n",
        "print(int(a)+int(b))"
      ],
      "metadata": {
        "colab": {
          "base_uri": "https://localhost:8080/"
        },
        "id": "DZJp8MIhIo4V",
        "outputId": "34cfd05a-52e6-43fe-d54d-f48b5987b742"
      },
      "execution_count": null,
      "outputs": [
        {
          "output_type": "stream",
          "name": "stdout",
          "text": [
            "enter 2 numbers:2 3\n",
            "5\n"
          ]
        }
      ]
    },
    {
      "cell_type": "markdown",
      "source": [
        "Write a Python program which accepts the user's first and last name and print them in reverse order with a space between them."
      ],
      "metadata": {
        "id": "ztnVP42B26WP"
      }
    },
    {
      "cell_type": "code",
      "source": [
        "first_name = input(\"Enter your first name: \")\n",
        "last_name = input(\"Enter your last name: \")\n",
        "full_name = first_name + \" \" + last_name\n",
        "print(full_name[::-1])\n"
      ],
      "metadata": {
        "id": "cTlK2gCx20Ex",
        "colab": {
          "base_uri": "https://localhost:8080/"
        },
        "outputId": "ab45a81a-7c76-41c5-c656-7394914a1346"
      },
      "execution_count": null,
      "outputs": [
        {
          "output_type": "stream",
          "name": "stdout",
          "text": [
            "Enter your first name: kamal\n",
            "Enter your last name: kishore\n",
            "erohsik lamak\n"
          ]
        }
      ]
    },
    {
      "cell_type": "markdown",
      "source": [
        "# **15/12/2022**"
      ],
      "metadata": {
        "id": "nDzEqCS_Hh8F"
      }
    },
    {
      "cell_type": "markdown",
      "source": [
        "WAP to accept an integer from the user and check whether it is an even or odd"
      ],
      "metadata": {
        "id": "YqK5EzXZI5ze"
      }
    },
    {
      "cell_type": "code",
      "source": [
        "x = int(input(\"Enter an integer: \"))\n",
        "if x % 2 == 0:\n",
        "  print(\"{} is even\".format(x))\n",
        "else:\n",
        "  print(f\"{x} is odd\")"
      ],
      "metadata": {
        "id": "V7pl6prJI7a7",
        "colab": {
          "base_uri": "https://localhost:8080/"
        },
        "outputId": "ad824a6e-03a5-41a4-9c08-c09214d24d2e"
      },
      "execution_count": null,
      "outputs": [
        {
          "output_type": "stream",
          "name": "stdout",
          "text": [
            "Enter an integer: 9999999990\n",
            "9999999990 is even\n"
          ]
        }
      ]
    },
    {
      "cell_type": "markdown",
      "source": [
        "WAP to accept a character from the user and check whether it is a capital letter or small letter. Assume user will input only alphabets"
      ],
      "metadata": {
        "id": "4vp0_Ega2A6r"
      }
    },
    {
      "cell_type": "code",
      "source": [
        "inp = input(\"Enter a Alphabet: \")\n",
        "if inp.isupper():\n",
        "  print(\"it is a capital letter\")\n",
        "else:\n",
        "  print(\"it is a lowercase letter\")"
      ],
      "metadata": {
        "id": "-4w8QGTI2AFH",
        "colab": {
          "base_uri": "https://localhost:8080/"
        },
        "outputId": "ae164a0e-b682-4d29-b584-43ecd3eb129b"
      },
      "execution_count": null,
      "outputs": [
        {
          "output_type": "stream",
          "name": "stdout",
          "text": [
            "Enter a Alphabet: Z\n",
            "it is a capital letter\n"
          ]
        }
      ]
    },
    {
      "cell_type": "markdown",
      "source": [
        "WAP to accept a character from the user and check whether it is a capital letter or small letter or a digit or some special symbol"
      ],
      "metadata": {
        "id": "r5iEO6jFRPRX"
      }
    },
    {
      "cell_type": "code",
      "source": [
        "ch = input(\"Enter a character: \")\n",
        "if \"A\" <= ch <= \"Z\":\n",
        "  print(\"Upper\")\n",
        "elif \"a\" <= ch <= \"z\":\n",
        "  print(\"lower\")\n",
        "elif \"0\" <= ch <= \"9\":\n",
        "  print(\"digit\")\n",
        "else:\n",
        "  print(\"special character\")"
      ],
      "metadata": {
        "id": "3MQeCPyLROBP",
        "colab": {
          "base_uri": "https://localhost:8080/"
        },
        "outputId": "b5c35d7f-0b2c-4312-f069-45f4d7829a15"
      },
      "execution_count": null,
      "outputs": [
        {
          "output_type": "stream",
          "name": "stdout",
          "text": [
            "Enter a character: !\n",
            "special character\n"
          ]
        }
      ]
    },
    {
      "cell_type": "code",
      "source": [
        "ch = input(\"Enter a character: \")\n",
        "if ch.isupper():\n",
        "  print(\"Uppercase letter\")\n",
        "elif ch.islower():\n",
        "  print(\"lowercase letter\")\n",
        "elif ch.isdigit():\n",
        "  print(\"a digit\")\n",
        "else:\n",
        "  print(\"special character\")"
      ],
      "metadata": {
        "colab": {
          "base_uri": "https://localhost:8080/"
        },
        "id": "OC8ZC-0IJ74O",
        "outputId": "0c8014f5-f984-4bb2-b53c-205a24a1e19c"
      },
      "execution_count": null,
      "outputs": [
        {
          "output_type": "stream",
          "name": "stdout",
          "text": [
            "Enter a character: Y\n",
            "Uppercase letter\n"
          ]
        }
      ]
    },
    {
      "cell_type": "markdown",
      "source": [
        "WAP to accept 3 integers from the user and without using any logical operator and cascading of relational operators , find out the greatest number amongst them"
      ],
      "metadata": {
        "id": "y6hJ41DTsE4c"
      }
    },
    {
      "cell_type": "code",
      "source": [
        "a = int(input(\"Enter a number: \"))\n",
        "b = int(input(\"Enter 2nd number: \"))\n",
        "c = int(input(\"Enter 3rd number: \"))\n",
        "if a > b:\n",
        "  if a > c:\n",
        "    print(\"the greater number is: \", a)\n",
        "  else:\n",
        "    print(\"the greater number is \", c)\n",
        "else:\n",
        "  if b > a:\n",
        "    if b > c:\n",
        "      print(\"the greater number is\", b)\n",
        "  else:\n",
        "    print(\"the greater number is: \", c)\n"
      ],
      "metadata": {
        "colab": {
          "base_uri": "https://localhost:8080/"
        },
        "id": "DyH6ARWvsFEa",
        "outputId": "9a4dd2f2-e264-42a1-80ae-9f692a5451a9"
      },
      "execution_count": null,
      "outputs": [
        {
          "output_type": "stream",
          "name": "stdout",
          "text": [
            "Enter a number: 9\n",
            "Enter 2nd number: 11\n",
            "Enter 3rd number: 8\n",
            "the greater number is 11\n"
          ]
        }
      ]
    },
    {
      "cell_type": "markdown",
      "source": [
        "WAP to accept a year from the user and check whether it is a leap year or not.\n"
      ],
      "metadata": {
        "id": "lFuH-cVnLBLb"
      }
    },
    {
      "cell_type": "code",
      "source": [
        "year = int(input(\"Enter a year\"))\n",
        "if (year % 4 == 0 and year % 100 != 0) or year % 400 == 0:\n",
        "  print(\"year is a leap year\")\n",
        "else:\n",
        "  print(\"%d is not a leap year\"%(year))\n"
      ],
      "metadata": {
        "colab": {
          "base_uri": "https://localhost:8080/"
        },
        "id": "XCgPPq5cjvir",
        "outputId": "5df3b401-0c4d-421b-c63c-2d5c0580ce3f"
      },
      "execution_count": null,
      "outputs": [
        {
          "output_type": "stream",
          "name": "stdout",
          "text": [
            "Enter a year1900\n",
            "1900 is not a leap year\n"
          ]
        }
      ]
    },
    {
      "cell_type": "code",
      "source": [
        "You have to develop a number guessing game. Following are the steps needed:\n",
        "At first, the program will generate a random integer secretly.\n",
        "\n",
        "Now it will ask the user to guess that number\n",
        "\n",
        "If the user guessed it correctly then the program prints “Congratulations! You guessed it right” .\n",
        "\n",
        "But if the number guessed by the user is larger than the secret number then program should print “Number too large” and , \n",
        "if the number guessed by the user is smaller than the secret number then the program should print “Number too small” \n",
        "\n",
        "This should continue until the user guesses the number correctly or quits\n",
        "\n",
        "If the user wants to quit in between he will have to type 0 or negative number\n"
      ],
      "metadata": {
        "id": "IEVsu1-vkQ6V"
      },
      "execution_count": null,
      "outputs": []
    },
    {
      "cell_type": "code",
      "source": [
        "import random\n",
        "num = random.randint(1,5)\n",
        "while(1):\n",
        "  n = int(input(\"Guess that number: \"))\n",
        "  if n == num:\n",
        "    print(\"congratulations! you guessed it right\")\n",
        "    break\n",
        "  elif n > num:\n",
        "    print(\"number too large\")\n",
        "  elif n < num:\n",
        "    print(\"number too small\")\n",
        "  else:\n",
        "    break"
      ],
      "metadata": {
        "id": "G22PQY7JlicR",
        "colab": {
          "base_uri": "https://localhost:8080/"
        },
        "outputId": "41f2e72f-6a29-4116-c7c7-e1b1057417e5"
      },
      "execution_count": null,
      "outputs": [
        {
          "output_type": "stream",
          "name": "stdout",
          "text": [
            "Guess that number: 2\n",
            "number too small\n",
            "Guess that number: 5\n",
            "number too large\n",
            "Guess that number: 3\n",
            "congratulations! you guessed it right\n"
          ]
        }
      ]
    },
    {
      "cell_type": "code",
      "source": [
        "import random\n",
        "num = random.randint(1,5)\n",
        "while(1):\n",
        "  n = int(input(\"Guess that number: or type 0 to exit \"))\n",
        "  if n == 0:\n",
        "    break\n",
        "  if n == num:\n",
        "    print(\"congratulations! you guessed it right\")\n",
        "    break\n",
        "  elif n > num:\n",
        "    print(\"number too large\")\n",
        "  elif n < num:\n",
        "    print(\"number too small\")\n",
        "  else:\n",
        "    break"
      ],
      "metadata": {
        "colab": {
          "base_uri": "https://localhost:8080/"
        },
        "id": "JR5gC8aWT1p4",
        "outputId": "6bdae350-faed-4ee8-972b-2c0aedf14168"
      },
      "execution_count": null,
      "outputs": [
        {
          "name": "stdout",
          "output_type": "stream",
          "text": [
            "Guess that number: or type 0 to exit 5\n",
            "number too large\n",
            "Guess that number: or type 0 to exit 0\n"
          ]
        }
      ]
    },
    {
      "cell_type": "markdown",
      "source": [
        "Write a program using a for loop to accept a string from the user and display it vertically but don’t display the vowels in it."
      ],
      "metadata": {
        "id": "_kQiQ_I4RaZ_"
      }
    },
    {
      "cell_type": "code",
      "source": [
        "string = input(\"Enter a string: \")\n",
        "for i in string:\n",
        "  if i not in \"aeiouAEIOU\":\n",
        "    print(i)"
      ],
      "metadata": {
        "colab": {
          "base_uri": "https://localhost:8080/"
        },
        "id": "TqJQjWdARZT2",
        "outputId": "a60e42d0-016d-4d1a-b71b-cd817a7d4f49"
      },
      "execution_count": null,
      "outputs": [
        {
          "output_type": "stream",
          "name": "stdout",
          "text": [
            "Enter a string: kamal kishore\n",
            "k\n",
            "m\n",
            "l\n",
            " \n",
            "k\n",
            "s\n",
            "h\n",
            "r\n"
          ]
        }
      ]
    },
    {
      "cell_type": "markdown",
      "source": [
        "Write a program to accept an integer from the user and display the sum of all the numbers from 1 to that number"
      ],
      "metadata": {
        "id": "f4t_QaBaJjAS"
      }
    },
    {
      "cell_type": "code",
      "source": [
        "num = int(input(\"Enter a number: \"))\n",
        "sum = 0\n",
        "for i in range(1,num+1):\n",
        "  sum = sum + i\n",
        "print('sum is', sum)"
      ],
      "metadata": {
        "colab": {
          "base_uri": "https://localhost:8080/"
        },
        "id": "jGrkoDivJjSa",
        "outputId": "d8ae4eb5-ca81-476e-aac0-ee7edc898cca"
      },
      "execution_count": null,
      "outputs": [
        {
          "output_type": "stream",
          "name": "stdout",
          "text": [
            "Enter a number: 6\n",
            "sum is 21\n"
          ]
        }
      ]
    },
    {
      "cell_type": "markdown",
      "source": [
        "Write a program to accept an integer from the user and calculate its factorial"
      ],
      "metadata": {
        "id": "D3ks3syociaa"
      }
    },
    {
      "cell_type": "code",
      "source": [
        "n = int(input(\"Enter a number: \"))\n",
        "fact = 1\n",
        "for i in range(1,n+1):\n",
        "  fact = fact*i\n",
        "if n==0 or n==1:\n",
        "  print(\"factorial is 1\")\n",
        "print(\"factorial is\",fact)"
      ],
      "metadata": {
        "colab": {
          "base_uri": "https://localhost:8080/"
        },
        "id": "8nCCRpxJciv5",
        "outputId": "bad41c2a-a58a-4720-c8e3-fa162ca6c4a8"
      },
      "execution_count": null,
      "outputs": [
        {
          "output_type": "stream",
          "name": "stdout",
          "text": [
            "Enter a number: 5\n",
            "factorial is 120\n"
          ]
        }
      ]
    },
    {
      "cell_type": "markdown",
      "source": [
        "Write a program to print the following pattern \n",
        "***\n",
        "***\n",
        "***\n",
        "***"
      ],
      "metadata": {
        "id": "eLAu5yGstKwi"
      }
    },
    {
      "cell_type": "code",
      "source": [
        "n = int(input(\"enter number of rows:\"))\n",
        "for i in range(1, n+1):\n",
        "  print(\"* \" * 3)\n"
      ],
      "metadata": {
        "colab": {
          "base_uri": "https://localhost:8080/"
        },
        "id": "PrMU-vkGef3r",
        "outputId": "e2b3ab97-d32a-4f5f-cc20-275068632ba0"
      },
      "execution_count": 6,
      "outputs": [
        {
          "output_type": "stream",
          "name": "stdout",
          "text": [
            "enter number of rows:4\n",
            "***\n",
            "***\n",
            "***\n",
            "***\n"
          ]
        }
      ]
    },
    {
      "cell_type": "markdown",
      "source": [
        "Write a program to print the following pattern \n",
        "*\n",
        "**\n",
        "***\n",
        "****\n"
      ],
      "metadata": {
        "id": "7fccsEl4iEYA"
      }
    },
    {
      "cell_type": "code",
      "source": [
        "n = int(input(\"Enter the number of rows: \"))\n",
        "for i in range(1, n+1):\n",
        "  print(\"* \" * i)"
      ],
      "metadata": {
        "id": "lH4TRHgYexUD",
        "colab": {
          "base_uri": "https://localhost:8080/"
        },
        "outputId": "d02454c2-cbf7-410e-f7d1-d47cf38b08c2"
      },
      "execution_count": 7,
      "outputs": [
        {
          "output_type": "stream",
          "name": "stdout",
          "text": [
            "Enter the number of rows: 4\n",
            "* \n",
            "* * \n",
            "* * * \n",
            "* * * * \n"
          ]
        }
      ]
    },
    {
      "cell_type": "markdown",
      "source": [
        "Write a program to print the following pattern \n",
        "* * * *\n",
        "* * *\n",
        "* *\n",
        "*\n",
        "\n",
        "* * * *\n",
        "\n",
        "\n"
      ],
      "metadata": {
        "id": "6jhbTjfuiwa5"
      }
    },
    {
      "cell_type": "code",
      "source": [
        "n = int(input(\"Enter the number of rows: \"))\n",
        "for i in range(n, 0, -1):\n",
        "  print(\"* \"* i)"
      ],
      "metadata": {
        "colab": {
          "base_uri": "https://localhost:8080/"
        },
        "id": "rmShYwhMi52B",
        "outputId": "8c5685aa-a075-4278-dff6-3cfbf0dd8ed2"
      },
      "execution_count": 9,
      "outputs": [
        {
          "output_type": "stream",
          "name": "stdout",
          "text": [
            "Enter the number of rows: 4\n",
            "* * * * \n",
            "* * * \n",
            "* * \n",
            "* \n"
          ]
        }
      ]
    },
    {
      "cell_type": "markdown",
      "source": [
        "Write a program to accept an integer from the user and display all the numbers from 1 to that number. Repeat the process until the user enters 0."
      ],
      "metadata": {
        "id": "oGaNq4cDjoqS"
      }
    },
    {
      "cell_type": "code",
      "source": [
        "while(1):\n",
        "    n=int(input(\"enter a number(enter 0 to exit):\"))\n",
        "    for i in range(1,n+1):\n",
        "        print(i)\n",
        "    if n==0:\n",
        "        break"
      ],
      "metadata": {
        "id": "VCZY9F8Pjwkc"
      },
      "execution_count": null,
      "outputs": []
    }
  ]
}